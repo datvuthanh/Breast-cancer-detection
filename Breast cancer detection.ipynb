{
  "nbformat": 4,
  "nbformat_minor": 0,
  "metadata": {
    "colab": {
      "name": "DBM301_ASG1_HE140592_Submission_final.ipynb",
      "provenance": []
    },
    "kernelspec": {
      "name": "python3",
      "display_name": "Python 3"
    },
    "language_info": {
      "name": "python"
    }
  },
  "cells": [
    {
      "cell_type": "code",
      "metadata": {
        "id": "huOLKwEk3QBC"
      },
      "source": [
        "import pandas as pd\n",
        "from sklearn.model_selection import train_test_split\n",
        "from sklearn.metrics import roc_auc_score\n",
        "from sklearn.ensemble import ExtraTreesClassifier, RandomForestClassifier,VotingClassifier,AdaBoostClassifier,GradientBoostingClassifier\n",
        "from sklearn.feature_selection import SelectFromModel\n",
        "from sklearn.metrics import confusion_matrix\n",
        "import xgboost as xgb\n",
        "import numpy as np\n",
        "\n",
        "X = pd.read_csv(\"X_train.csv\")\n",
        "y = pd.read_csv(\"y_train.csv\")\n",
        "\n",
        "X = X.drop(columns=['age', 'barcode', 'histtype', 'posnodes','hormonal'])\n",
        "X['timerecurrence'] = np.where(X['survival'] == X['timerecurrence'], X['timerecurrence']*2, X['timerecurrence'])\n",
        "X=(X-X.min())/(X.max()-X.min())"
      ],
      "execution_count": 2,
      "outputs": []
    },
    {
      "cell_type": "code",
      "metadata": {
        "id": "72lCI7nhU0sJ",
        "colab": {
          "base_uri": "https://localhost:8080/"
        },
        "outputId": "6c6d6005-8378-4dd6-d166-0193e6824ff2"
      },
      "source": [
        "from imblearn.combine import SMOTETomek\n",
        "\n",
        "smt = SMOTETomek(random_state=42)\n",
        "X, y = smt.fit_sample(X, y)"
      ],
      "execution_count": 3,
      "outputs": [
        {
          "output_type": "stream",
          "name": "stderr",
          "text": [
            "/usr/local/lib/python3.7/dist-packages/sklearn/externals/six.py:31: FutureWarning: The module is deprecated in version 0.21 and will be removed in version 0.23 since we've dropped support for Python 2.7. Please rely on the official version of six (https://pypi.org/project/six/).\n",
            "  \"(https://pypi.org/project/six/).\", FutureWarning)\n",
            "/usr/local/lib/python3.7/dist-packages/sklearn/utils/deprecation.py:144: FutureWarning: The sklearn.neighbors.base module is  deprecated in version 0.22 and will be removed in version 0.24. The corresponding classes / functions should instead be imported from sklearn.neighbors. Anything that cannot be imported from sklearn.neighbors is now part of the private API.\n",
            "  warnings.warn(message, FutureWarning)\n",
            "/usr/local/lib/python3.7/dist-packages/sklearn/utils/validation.py:760: DataConversionWarning: A column-vector y was passed when a 1d array was expected. Please change the shape of y to (n_samples, ), for example using ravel().\n",
            "  y = column_or_1d(y, warn=True)\n",
            "/usr/local/lib/python3.7/dist-packages/sklearn/utils/deprecation.py:87: FutureWarning: Function safe_indexing is deprecated; safe_indexing is deprecated in version 0.22 and will be removed in version 0.24.\n",
            "  warnings.warn(msg, category=FutureWarning)\n",
            "/usr/local/lib/python3.7/dist-packages/sklearn/utils/deprecation.py:87: FutureWarning: Function safe_indexing is deprecated; safe_indexing is deprecated in version 0.22 and will be removed in version 0.24.\n",
            "  warnings.warn(msg, category=FutureWarning)\n"
          ]
        }
      ]
    },
    {
      "cell_type": "code",
      "metadata": {
        "id": "3LytMEXn34gC",
        "colab": {
          "base_uri": "https://localhost:8080/"
        },
        "outputId": "86d94020-6ada-418f-d8ba-3d89effd5a50"
      },
      "source": [
        "# model training\n",
        "from sklearn.linear_model import LogisticRegression\n",
        "from sklearn.model_selection import GridSearchCV\n",
        "from sklearn.metrics import accuracy_score, f1_score\n",
        "\n",
        "X_train, X_test, y_train, y_test = train_test_split(X, y, test_size=0.1, random_state=2)\n",
        "\n",
        "clf3 = RandomForestClassifier(n_estimators=1000, n_jobs=-1, criterion='gini',max_depth=20,random_state=2)\n",
        "\n",
        "clf3 = clf3.fit(X_train, y_train)\n",
        "predict_submit = clf3.predict(X_test)\n",
        "\n",
        "logreg_acc_score = accuracy_score(y_test, predict_submit)\n",
        "f1 = f1_score(y_test, predict_submit)\n",
        "\n",
        "print(logreg_acc_score)"
      ],
      "execution_count": 4,
      "outputs": [
        {
          "output_type": "stream",
          "name": "stdout",
          "text": [
            "0.85\n"
          ]
        }
      ]
    },
    {
      "cell_type": "code",
      "metadata": {
        "id": "QdNS6NCa6Gbn"
      },
      "source": [
        "#Submit file\n",
        "import numpy\n",
        "X_val = pd.read_csv(\"X_val.csv\")\n",
        "X_val = X_val.drop(columns=['age', 'barcode' ,'histtype','posnodes','hormonal'])\n",
        "X_val['timerecurrence'] = np.where(X_val['survival'] == X_val['timerecurrence'], X_val['timerecurrence']*2, X_val['timerecurrence'])\n",
        "X_val=(X_val-X_val.min())/(X_val.max()-X_val.min())\n",
        "\n",
        "\n",
        "predict_submit = clf3.predict(X_val)\n",
        "numpy.savetxt(\"asg1_submit_datvtHE140592_final.csv\", predict_submit, delimiter=\",\")"
      ],
      "execution_count": 5,
      "outputs": []
    },
    {
      "cell_type": "code",
      "metadata": {
        "id": "GWNqfOAZu6ao"
      },
      "source": [
        ""
      ],
      "execution_count": null,
      "outputs": []
    }
  ]
}